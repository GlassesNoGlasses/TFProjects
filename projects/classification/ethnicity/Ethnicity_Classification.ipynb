{
  "nbformat": 4,
  "nbformat_minor": 0,
  "metadata": {
    "colab": {
      "provenance": [],
      "authorship_tag": "ABX9TyNdIayBlgnNIZQvea0UiWy6",
      "include_colab_link": true
    },
    "kernelspec": {
      "name": "python3",
      "display_name": "Python 3"
    },
    "language_info": {
      "name": "python"
    }
  },
  "cells": [
    {
      "cell_type": "markdown",
      "metadata": {
        "id": "view-in-github",
        "colab_type": "text"
      },
      "source": [
        "<a href=\"https://colab.research.google.com/github/GlassesNoGlasses/TFProjects/blob/ethnicity_classifier/projects/classification/ethnicity/Ethnicity_Classification.ipynb\" target=\"_parent\"><img src=\"https://colab.research.google.com/assets/colab-badge.svg\" alt=\"Open In Colab\"/></a>"
      ]
    },
    {
      "cell_type": "code",
      "source": [
        "# Clone repo\n",
        "\n",
        "!git clone https://github.com/GlassesNoGlasses/TFProjects.git"
      ],
      "metadata": {
        "colab": {
          "base_uri": "https://localhost:8080/"
        },
        "id": "xo_5GOd9813X",
        "outputId": "feea4745-2088-4ec8-986c-a4c99b3e5c03"
      },
      "execution_count": 40,
      "outputs": [
        {
          "output_type": "stream",
          "name": "stdout",
          "text": [
            "fatal: destination path 'TFProjects' already exists and is not an empty directory.\n"
          ]
        }
      ]
    },
    {
      "cell_type": "code",
      "source": [
        "# Reclone repo\n",
        "\n",
        "!rm -r TFProjects/\n",
        "!git clone https://github.com/GlassesNoGlasses/TFProjects.git"
      ],
      "metadata": {
        "colab": {
          "base_uri": "https://localhost:8080/"
        },
        "id": "HAEK60nw8-7c",
        "outputId": "24999102-66f0-445f-dcc9-14f9ab44d10f"
      },
      "execution_count": 41,
      "outputs": [
        {
          "output_type": "stream",
          "name": "stdout",
          "text": [
            "Cloning into 'TFProjects'...\n",
            "remote: Enumerating objects: 1770, done.\u001b[K\n",
            "remote: Counting objects: 100% (1770/1770), done.\u001b[K\n",
            "remote: Compressing objects: 100% (1492/1492), done.\u001b[K\n",
            "remote: Total 1770 (delta 284), reused 1741 (delta 272), pack-reused 0\u001b[K\n",
            "Receiving objects: 100% (1770/1770), 21.04 MiB | 28.50 MiB/s, done.\n",
            "Resolving deltas: 100% (284/284), done.\n"
          ]
        }
      ]
    },
    {
      "cell_type": "code",
      "source": [
        "# Add required imports\n",
        "\n",
        "import matplotlib.pyplot as plt\n",
        "import numpy as np\n",
        "import PIL\n",
        "import tensorflow as tf\n",
        "\n",
        "from tensorflow import keras\n",
        "from tensorflow.keras import layers\n",
        "from tensorflow.keras.models import Sequential"
      ],
      "metadata": {
        "id": "eY2kNpNR4iYn"
      },
      "execution_count": 42,
      "outputs": []
    },
    {
      "cell_type": "code",
      "source": [
        "# File locations/directories\n",
        "\n",
        "import os\n",
        "\n",
        "# List of all ethnicities\n",
        "ethnicities_subdirs = ['Caucasian', 'Asian', 'African']\n",
        "\n",
        "# paths to training/testing dirs\n",
        "test_data_path = \"/content/TFProjects/projects/classification/ethnicity/Test\"\n",
        "train_data_path = \"/content/TFProjects/projects/classification/ethnicity/Train\"\n",
        "\n",
        "# Return list of all files in a dir given path\n",
        "def GetFiles(path: str) -> list[str]:\n",
        "  if path == None or len(path) == 0:\n",
        "    return []\n",
        "\n",
        "  return os.listdir(path)"
      ],
      "metadata": {
        "id": "Mg_udRHP5ipK"
      },
      "execution_count": 43,
      "outputs": []
    },
    {
      "cell_type": "code",
      "source": [
        "for ethnicity in ethnicities_subdirs:\n",
        "  print(ethnicity)\n",
        "  print(GetFiles(train_data_path + \"/\" + ethnicity))"
      ],
      "metadata": {
        "colab": {
          "base_uri": "https://localhost:8080/"
        },
        "id": "CiUXDlVE_5jA",
        "outputId": "267faaa8-b50e-4a22-a16d-59a4e1a99ab3"
      },
      "execution_count": null,
      "outputs": [
        {
          "output_type": "stream",
          "name": "stdout",
          "text": [
            "Caucasian\n",
            "['George_P_Bush_0002.jpg', '63.JPG', 'b29.JPG', '64 - Copy.JPG', 'Tony_Blair_0020.jpg', 'Matt_Morris_0001.jpg', '77.JPG', 'Jeff_George_0001.jpg', '131.JPG', 'George_W_Bush_0038.jpg', 'Neil_Goldman_0001.jpg', 'Kent_Robinson_0001.jpg', 'Amy_Smart_0001.jpg', 'b46.JPG', 'William_Macy_0002.jpg', 'Tony_Blair_0114.jpg', '86.JPG', 'Jennifer_Lopez_0019.jpg', '62.JPG', 'Thomas_Franklin_0001.jpg', 'Baz_Luhrmann_0001.jpg', '73.JPG', 'Kenny_Brack_0001.jpg', '117.JPG', '167.JPG', '115.JPG', 'Angela_Mascia-Frye_0001.jpg', 'b45.JPG', 'Rob_Marshall_0001.jpg', 'Rob_Marshall_0002.jpg', 'Kenneth_Brill_0001.jpg', '155.JPG', '110.JPG', 'Tony_Blair_0102.jpg', 'Robert_Bullock_0002.jpg', 'person_0618.jpg', 'Raymond_Arthurs_0001.jpg', '119.JPG', '143.JPG', 'Paul_Bremer_0013.jpg', '109.JPG', '25.JPG', '933.JPG', 'Greg_Gilbert_0002.jpg', 'person_0011.jpg', '113.JPG', 'person_0344.jpg', 'person_0976.jpg', 'Britney_Spears_0011.jpg', '917.JPG', '149.JPG', 'James_May_0001.jpg', 'Brad_Johnson_0003.jpg', 'Shane_Reynolds_0001.jpg', 'Cassandra_Heise_0001.jpg', 'James_Maguire_0001.jpg', 'Patrick_Coleman_0001.jpg', 'Michael_Kahn_0001.jpg', 'b50.JPG', '1153.JPG', 'John_Anderson_0001.jpg', '106.JPG', '50.JPG', 'William_Macy_0004.jpg', '186.JPG', '160.JPG', '174.JPG', 'Winona_Ryder_0004.jpg', '169.JPG', '171.JPG', 'Tony_Blair_0008.jpg', 'b61.JPG', '55.JPG', 'Alicia_Witt_0001.jpg', 'Tony_Blair_0128.jpg', 'person_0002.jpg', 'Brad_Brownell_0001.jpg', 'Rob_Ramsay_0001 - Copy.jpg', '142.JPG', 'b34.JPG', 'person_0363.jpg', '922.JPG', 'Paul_Bremer_0003.jpg', 'Barbara_Walters_0003.jpg', '29.JPG', 'Darla_Moore_0001.jpg', '36.JPG', 'Sharon_Davis_0002.jpg', 'pexels-photo-3597099.jpg', 'b27.JPG', '913.JPG', 'Gwen_Stefani_0001.jpg', 'Kate_Hudson_0005.jpg', 'Laura_Bush_0028.jpg', 'Robert_Blake_0002.jpg', '123.JPG', 'person_0619.jpg', 'b23.JPG', 'Helen_Clark_0002.jpg', '75 - Copy.JPG', 'person_0349.jpg', '921.JPG', 'Tony_Blair_0110.jpg', '928.JPG', 'Britney_Spears_0003.jpg', 'Kate_Hudson_0004.jpg', '40.JPG', '173.JPG', 'Patsy_Kensit_0001.jpg', '158.JPG', 'b68.JPG', 'Robert_Blake_0007.jpg', '21.JPG', 'person_0985.jpg', 'Helen_Clark_0001.jpg', 'Joe_Leonard_0001.jpg', 'Winona_Ryder_0008.jpg', 'Jonathan_Byrd_0001.jpg', 'b37.JPG', 'Laura_Bush_0037.jpg', 'Sherry_Irving_0001.jpg', '930.JPG', '909.JPG', 'person_0422.jpg', 'Chris_Cooper_0001.jpg', '130.JPG', 'b44.JPG', 'Britney_Spears_0002.jpg', 'Rick_Stansbury_0001.jpg', 'person_0348.jpg', 'Tony_Blair_0138.jpg', '62 - Copy.JPG', 'Tony_Blair_0113.jpg', 'Tony_Blair_0016.jpg', 'b60.JPG', '196.JPG', 'b55.JPG', '166.JPG', 'Toni_Jennings_0001.jpg', 'Chris_Cookson_0001.jpg', '919.JPG', 'William_Ford_Jr_0005.jpg', '47.JPG', 'Greg_Hennigar_0001.jpg', '64.JPG', 'Sadie_Frost_0002.jpg', '53.JPG', 'Sinead_OConnor_0001.jpg', 'b31.JPG', '49.JPG', 'desktop.ini', '103.JPG', 'Kate_Hudson_0001.jpg', '71.JPG', 'Tony_Blair_0006.jpg', 'Kenneth_Reichert_0001.jpg', '43.JPG', 'Winona_Ryder_0016.jpg', '914.JPG', 'Paul_Bremer_0004.jpg', '201.JPG', 'Kate_Hudson_0007.jpg', 'Alexa_Loren_0001.jpg', 'person_0342.jpg', 'b67.JPG', 'Kristin_Chenoweth_0001.jpg', '73 - Copy.JPG', '136.JPG', 'Walter_Woods_0001.jpg', 'Eminem_0001.jpg', 'Tony_Blair_0003.jpg', 'Alicia_Silverstone_0002.jpg', 'John_Mayer_0002.jpg', 'Phil_Johnson_0001.jpg', 'Sadie_Frost_0003.jpg', 'Winona_Ryder_0023.jpg', '154.JPG', 'Elizabeth_Smart_0005.jpg', '139.JPG', '52.JPG', 'Angela_Merkel_0003.jpg', 'Talisa_Bratt_0001.jpg', '27.JPG', 'Rick_Stansbury_0003.jpg', 'Paul_Bremer_0001.jpg', 'Rick_Stansbury_0002.jpg', 'George_W_Bush_0036.jpg', 'Patricia_Phillips_0001.jpg', 'Rob_Morrow_0001.jpg', 'Robert_Blake_0003.jpg', '140.JPG', '132.JPG', 'Courtney_Cox_0001.jpg', 'Sadie_Frost_0001.jpg', 'b32.JPG', 'Britney_Spears_0008.jpg', 'Boris_Henry_0001.jpg', '185.JPG', 'Winona_Ryder_0019.jpg', 'Judd_Davies_0001.jpg', 'Paul_Bremer_0010.jpg', 'William_Ford_Jr_0004.jpg', 'Ryan_Goodman_0001.jpg', 'Tony_Blair_0019.jpg', 'Angela_Merkel_0002.jpg', 'person_0471.jpg', '980.JPG', '194.JPG', 'Kevin_Marshall_0001.jpg', 'Laura_Bush_0015.jpg', '126.JPG', 'Ryan_Leaf_0001.jpg', '75.JPG', 'Helen_Clark_0003.jpg', 'Phil_Cullen_0001.jpg', '121.JPG', 'Barbara_Walters_0004.jpg', '70 - Copy.JPG', 'William_Macy_0001.jpg', '940.JPG', 'Richard_Lennon_0001.jpg', 'b39.JPG', 'person_0420.jpg', 'Phil_Jackson_0001.jpg', 'George_W_Bush_0037.jpg', 'Kate_Hudson_0009.jpg', '48.JPG', 'b51.JPG', 'Margaret_Thatcher_0002.jpg', 'Tony_Blair_0018.jpg', 'Michael_Jasny_0001.jpg', 'Jim_Taylor_0001.jpg', 'person_0980.jpg', 'Brad_Johnson_0002.jpg', '135.JPG', 'Christy_Ferer_0001.jpg', 'Nicole_Hiltz_0001.jpg', 'Helen_Clark_0004.jpg', 'Tony_Blair_0014.jpg', 'Tony_Blair_0004.jpg', 'James_Maguire_0002.jpg', 'Kevin_Gil_0001.jpg', 'person_0470.jpg', 'Phil_Gramm_0002.jpg', '178.JPG', 'Laura_Bush_0033.jpg', 'Greg_Gilbert_0001.jpg', 'Tony_Blair_0137.jpg', 'Shane_Phillips_0001.jpg', 'Tony_Blair_0005.jpg', '189.JPG', 'Laura_Bush_0025.jpg', 'Brian_Campbell_0001.jpg', 'Patsy_Hardy_0001.jpg', '127.JPG', 'b48.JPG', 'Winona_Ryder_0006.jpg', 'Lena_Olin_0001.jpg', '23.JPG', 'Tony_Blair_0015.jpg', '190.JPG', 'b49.JPG', 'person_0000.jpg', '159.JPG', 'Rosario_Dawson_0001.jpg', 'person_0614.jpg', '151.JPG', '168.JPG', 'person_0007.jpg', 'Paul_Bettany_0001.jpg', '67.JPG', 'Hillary_Clinton_0008.jpg', 'John_Mayer_0003.jpg', '161.JPG', 'George_P_Bush_0001.jpg', 'person_0474.jpg', 'Rob_Marshall_0004.jpg', '137.JPG', '41.JPG', '133.JPG', '20.JPG', 'b70.JPG', 'b30.JPG', 'Catherine_Bell_0001.jpg', '911.JPG', '163.JPG', 'Shirley_Jones_0001.jpg', '156.JPG', 'Jennifer_Lopez_0013.jpg', 'Winona_Ryder_0013.jpg', 'Kate_Hudson_0008.jpg', 'Sophie_0001.jpg', 'Samantha_Ledster_0001.jpg', 'Angela_Lansbury_0001.jpg', 'Tony_Blair_0011.jpg', 'b25.JPG', 'Rick_Reed_0001.jpg', '183.JPG', 'Sherry_Fisher_0001.jpg', 'Tony_Blair_0112.jpg', 'Dave_Williams_0001.jpg', 'b53.JPG', 'b40.JPG', 'Hillary_Clinton_0001.jpg', '59.JPG', '150.JPG', 'b64.JPG', 'person_0347.jpg', '981.JPG', 'person_0343.jpg', 'Tony_Clement_0001.jpg', '111.JPG', 'Jennifer_Lopez_0007.jpg', '24.JPG', 'b38.JPG', 'Robin_Cook_0002.jpg', 'Robin_Cook_0001.jpg', 'Angela_Lansbury_0002.jpg', '901.JPG', 'Kate_Hudson_0006.jpg', 'b71.JPG', '188.JPG', 'b35.JPG', 'Roland_Koch_0001.jpg', 'Chris_Cirino_0001.jpg', '125.JPG', 'Tony_Blair_0009.jpg', '141.JPG', 'Hillary_Clinton_0002.jpg', '932.JPG', 'Robert_Blake_0001.jpg', 'b26.JPG', '63 - Copy.JPG', 'Tom_Reilly_0002.jpg', 'James_Kirtley_0001.jpg', 'Judy_Locy_0001.jpg', 'Martie_Maguire_0001.jpg', 'person_0362.jpg', 'Liv_Tyler_0001.jpg', '144.JPG', 'Larry_Harris_0001.jpg', 'Hillary_Clinton_0007.jpg', 'Tony_Blair_0099.jpg', '128.JPG', '120.JPG', 'Cass_Ballenger_0001.jpg', '180.JPG', 'b58.JPG', '71 - Copy.JPG', 'Brad_Johnson_0005.jpg', 'Kenneth_Carlsen_0001.jpg', 'Kristin_Davis_0003.jpg', 'Afton_Smith_0001.jpg', 'Tony_Blair_0021.jpg', 'b62.JPG', 'Tony_Blair_0007.jpg', 'Kevin_James_0001.jpg', '182.JPG', 'Tony_Blair_0111.jpg', 'Tom_Reilly_0001.jpg', 'George_W_Bush_0035.jpg', 'Jane_Pauley_0002.jpg', 'person_0421.jpg', 'Jesse_James_0001.jpg', 'b42.JPG', 'Shania_Twain_0001.jpg', 'Britney_Spears_0007.jpg', 'Phil_Gramm_0001.jpg', 'Robbie_Naish_0001.jpg', 'Queen_Elizabeth_II_0002.jpg', 'person_0423.jpg', 'person_0005.jpg', '184.JPG', '939.JPG', 'Tony_Blair_0013.jpg', 'Tony_Blair_0025.jpg', '147.JPG', '162.JPG', 'Hillary_Clinton_0006.jpg', 'Alicia_Silverstone_0001.jpg', 'person_0003.jpg', '129.JPG', 'person_0981.jpg', 'George_W_Bush_0034.jpg', 'Margerry_Bakley_0001.jpg', '116.JPG', '927.JPG', 'Warren_Buffett_0001.jpg', '924.JPG', 'Chris_Cooper_0002.jpg', 'David_Brown_0001.jpg', 'Tony_Blair_0012.jpg', 'person_0983.jpg', '920.JPG', 'Kevin_Crane_0001.jpg', 'Jennifer_Lopez_0002.jpg', '938.JPG', 'b24.JPG', '193.JPG', '60.JPG', '134.JPG', 'James_Murdoch_0001.jpg', 'Sinead_OConnor_0001 - Copy (2).jpg', 'Paul_Bremer_0002.jpg', '931.JPG', '114.JPG', '37.JPG', 'Nick_Price_0001.jpg', '38.JPG', '165.JPG', 'Jennifer_Lopez_0021.jpg', 'Princess_Stephanie_0001.jpg', 'Elizabeth_Dole_0001.jpg', 'Tony_Blair_0002.jpg', 'person_0472.jpg', 'Lindsay_Lohan_0001.jpg', 'Kate_Hudson_0003.jpg', 'Elizabeth_Berkeley_0001.jpg', '148.JPG', 'Tony_Blair_0124.jpg', '44.JPG', 'Tom_Reilly_0003.jpg', 'Kurt_Budke_0001.jpg', 'Elizabeth_Taylor_0001.jpg', 'Winona_Ryder_0003.jpg', 'John_Mayer_0001.jpg', '203.JPG', 'Tony_Blair_0136.jpg', 'Jane_Pauley_0001.jpg', 'Kristin_Davis_0001.jpg', '108.JPG', 'Tony_Blair_0098.jpg', '28.JPG', 'Bonnie_Hunt_0001.jpg', 'Ruth_Pearce_0001.jpg', 'Rose_Marie_0001.jpg', '170.JPG', '124.JPG', '195.JPG', 'Princess_Maxima_0001.jpg', 'George_W_Bush_0039.jpg', 'Winona_Ryder_0001.jpg', '70.JPG', '76.JPG', 'Sinead_OConnor_0001 - Copy.jpg', 'Queen_Elizabeth_II_0001.jpg', 'Angela_Merkel_0001.jpg', '67 - Copy.JPG', '172.JPG', 'Margaret_Thatcher_0001.jpg', 'Lyle_Lovett_0001.jpg', 'b54.JPG', '912.JPG', '157.JPG', 'Kate_Hudson_0002.jpg', '54.JPG', 'Rick_Rickert_0001.jpg', '118.JPG', 'Kristin_Davis_0002.jpg', 'Paul_Bremer_0018.jpg', 'person_0984.jpg', '198.JPG', 'b56.JPG', 'Kimberly_Stewart_0001.jpg', 'Britney_Spears_0006.jpg', 'Sharon_Davis_0001.jpg', 'Pauline_Landers_0001.jpg', 'person_0473.jpg', '009.JPG', 'Richard_Naughton_0001.jpg', 'Rob_Ramsay_0001.jpg', 'b36.JPG', '105.JPG']\n",
            "Asian\n",
            "['es3573.jpg', 'Gloria_Macapagal_Arroyo_0005.jpg', 'person_0181.jpg', 'person_0072.jpg', 'Li_Peng_0003.jpg', 'xz2809.jpg', 'Li_Zhaoxing_0001.jpg', 'Chen_Shui-bian_0004.jpg', 'Gloria_Macapagal_Arroyo_0001.jpg', 'Hu_Jintao_0007.jpg', 'qg2172.jpg', 'Adisai_Bodharamik_0001.jpg', 'yq2158.jpg', 'yc3228.jpg', 'Li_Peng_0005.jpg', '167.JPG', 'Zhu_Rongji_0008.jpg', 'Yoriko_Kawaguchi_0012.jpg', 'Yao_Ming_0004.jpg', 'Hisao_Oguchi_0002.jpg', '115.JPG', 'Chung_Mong-joon_0001.jpg', 'Yoko_Ono_0006.jpg', 'to2232.jpg', 'Chang_Dae-whan_0001.jpg', 'xs2291.jpg', 'Gloria_Macapagal_Arroyo_0025.jpg', 'Yoriko_Kawaguchi_0007.jpg', 'cr2826.jpg', 'ty2417.jpg', 'Jiang_Zemin_0001.jpg', '110.JPG', 'Alan_Tang_Kwong-wing_0001.jpg', '187.JPG', 'Shinzo_Abe_0001.jpg', '119.JPG', '143.JPG', '25.JPG', 'Choi_Yun-yong_0001.jpg', 'Yu_Shyi-kun_0003.jpg', 'Fujio_Cho_0005.jpg', 'tl2710.jpg', '138.JPG', '113.JPG', '34.JPG', 'Yao_Ming_0001.jpg', 'yd2466.jpg', 'person_0718.jpg', '149.JPG', 'Chea_Sophara_0001.jpg', '112.JPG', 'Gloria_Macapagal_Arroyo_0015.jpg', 'mw2969.jpg', 'xj2191 (1).jpg', 'cz2517.jpg', 'Tomomi_Morita_0001.jpg', 'Hu_Jintao_0010.jpg', 'Heizo_Takenaka_0001.jpg', 'yy2496.jpg', 'Stage 1.jpg', 'Yao_Ming_0008.jpg', 'Hu_Jintao_0006.jpg', 'Jong_Wook_Lee_0001.jpg', 'ph2439.jpg', '186.JPG', 'Lee_Chang-dong_0001.jpg', 'Charlie_Zaa_0002.jpg', '160.JPG', 'Tonga_0001.jpg', 'Faye_Wong_0001.jpg', 'Hiroyuki_Yoshino_0001.jpg', 'Yang_Hee_Kim_0001.jpg', 'Wayne_Newton_0001.jpg', 'Lee_Yeo-jin_0001.jpg', 'Lee_Soo-hyuck_0001.jpg', 'xd2212 (1).jpg', '14.JPG', 'sh3246.jpg', 'Chok_Tong_Goh_0002.jpg', 'Tang_Jiaxuan_0009.jpg', 'Kim_Yong-il_0001.jpg', 'Hwang_Doo-yun_0001.jpg', '209.JPG', 'Yasushi_Akashi_0001.jpg', 'sj2909.jpg', 'Hichiro_Naemura_0001.jpg', 'Gloria_Macapagal_Arroyo_0029.jpg', 'Zhang_Ziyi_0004.jpg', 'Vicki_Zhao_Wei_0001.jpg', 'Hideki_Sato_0001.jpg', 'yd2302.jpg', 'Hong_Myung_0001.jpg', 'Yao_Ming_0002.jpg', 'yw2875.jpg', 'Hideki_Matsui_0001.jpg', 'a89.JPG', 'Zhang_Ziyi_0002.jpg', 'Yoon_Jin-Sik_0001.jpg', 'qs2147.jpg', 'Gloria_Macapagal_Arroyo_0019.jpg', 'Hu_Jintao_0009.jpg', '29.JPG', 'Vicki_Zhao_Wei_0002.jpg', 'Gao_Qiang_0002.jpg', 'Yoon_Won-Sik_0001.jpg', 'zw2327.jpg', '153.JPG', 'Yoriko_Kawaguchi_0004.jpg', 'Jiang_Zemin_0016.jpg', '700-01185044en_Masterfile.jpg', 'Hu_Jintao_0008.jpg', 'Zhu_Rongji_0001.jpg', 'Jiang_Zemin_0011.jpg', 'Chen_Kaige_0001.jpg', 'Sung_Hong_Choi_0001.jpg', 'Kim_Hong-up_0001.jpg', 'Alberto_Fujimori_0001.jpg', 'ms5904.jpg', 'person_0119.jpg', 'Jia_Qinglin_0002.jpg', 'Kim_Jong-Il_0002.jpg', 'sd2810.jpg', 'Tomoko_Hagiwara_0001.jpg', 'xl2601.jpg', 'jb4076.jpg', 'Chen_Liang_Yu_0002.jpg', 'Hitoshi_Tanaka_0001.jpg', 'Li_Peng_0007.jpg', 'person_0717.jpg', '173.JPG', 'tw2516.jpg', 'Yoko_Ono_0001.jpg', 'Kim_Dong-tae_0001.jpg', 'person_0975.jpg', 'yz2993.jpg', 'Gloria_Macapagal_Arroyo_0041.jpg', 'Shingo_Suetsugu_0001.jpg', '21.JPG', 'ts2957.jpg', 'Choi_Sung-hong_0001.jpg', 'Fujio_Cho_0001.jpg', 'yq2158 (1).jpg', 'Jiang_Zemin_0002.jpg', 'Kim_Dong-hwa_0001.jpg', 'jz2985.jpg', 'kz2246.jpg', '179.JPG', 'Yoriko_Kawaguchi_0005.jpg', 'yx2382.jpg', 'Gloria_Macapagal_Arroyo_0042.jpg', 'Hidetoshi_Nakata_0001.jpg', 'yw2928 (1).jpg', 'Tang_Jiaxuan_0005.jpg', '202.JPG', 'Gloria_Macapagal_Arroyo_0023.jpg', 'Lee_Tae-sik_0002.jpg', 'Win_Aung_0001.jpg', 'yl4003.jpg', 'yz3365.jpg', 'Liu_Xiaoqing_0001.jpg', 'Li_Zhaoxing_0006.jpg', 'Zhu_Rongji_0005.jpg', 'Kim_Ryong-sung_0002.jpg', 'Candie_Kung_0002.jpg', 'Yao_Ming_0005.jpg', 'Li_Peng_0004.jpg', 'Chin-Hui_Tsao_0001.jpg', '175.JPG', 'Zhu_Rongji_0002.jpg', 'ls3301.jpg', 'Lee_Byung-woong_0001.jpg', 'Heizo_Takenaka_0008.jpg', 'Gloria_Macapagal_Arroyo_0036.jpg', 'Chang_Jae_On_0001.jpg', 'Choi_Sung-hong_0002.jpg', 'person_0716.jpg', 'person_0715.jpg', 'Alberta_Lee_0001.jpg', 'hl2915 (1).jpg', 'Jiang_Zemin_0015.jpg', 'tp2522.jpg', 'Wen_Jiabao_0010.jpg', 'Gloria_Macapagal_Arroyo_0035.jpg', 'Hu_Jintao_0012.jpg', 'Yao_Ming_0007.jpg', 'jl4564.jpg', 'Gloria_Macapagal_Arroyo_0008.jpg', 'Tang_Jiaxuan_0003.jpg', 'Gloria_Macapagal_Arroyo_0011.jpg', 'Antony_Leung_0003.jpg', 'Antony_Leung_0002.jpg', 'Heizo_Takenaka_0009.jpg', 'ya2366.jpg', 'Yoriko_Kawaguchi_0013.jpg', 'Kim_Ryong-sung_0011.jpg', 'jc4295.jpg', 'Kim_Ryong-sung_0006.jpg', 'Heizo_Takenaka_0003.jpg', 'Heizo_Takenaka_0005.jpg', 'Heizo_Takenaka_0002.jpg', 'Chang_Tso_0001.jpg', '201.JPG', 'Kim_Ryong-sung_0007.jpg', 'person_0972.jpg', 'Akiko_Morigami_0001.jpg', '199.JPG', 'Wu_Yi_0003.jpg', 'yq2207.jpg', 'zy2233.jpg', 'Gloria_Macapagal_Arroyo_0032.jpg', 'Atsushi_Sato_0001.jpg', 'Jiang_Zemin_0018.jpg', 'axc2105.jpg', '154.JPG', 'tl2861.jpg', '139.JPG', 'Jiang_Zemin_0010.jpg', 'Tang_Jiaxuan_0002.jpg', '27.JPG', 'Wen_Jiabao_0013.jpg', 'Yoshiyuki_Kamei_0001.jpg', 'Jiang_Zemin_0003.jpg', 'Wang_Hailan_0001.jpg', 'Yao_Ming_0006.jpg', 'Yao_Ming_0003.jpg', 'll2698.jpg', 'Aung_San_Suu_Kyi_0001.jpg', 'rh2648.jpg', 'Chung_Mong-hun_0001.jpg', 'Li_Peng_0006.jpg', '140.JPG', '132.JPG', 'Suh_Chung-won_0001.jpg', 'Hu_Jintao_0015.jpg', 's.jpg', 'rw2526.jpg', 'xd2169.jpg', 'Wei_Wu_0001.jpg', 'Zhu_Rongji_0007.jpg', 'Wen_Jiabao_0008.jpg', '177.JPG', '32.JPG', 'person_0922.jpg', 'Kim_Jong-Il_0004.jpg', 'Gloria_Macapagal_Arroyo_0039.jpg', 'mz2584.jpg', '194.JPG', 'zd2212 (1).jpg', 'ax2127.jpg', 'Elaine_Chao_0001.jpg', 'Gloria_Macapagal_Arroyo_0038.jpg', '126.JPG', 'Yukiko_Okudo_0001.jpg', 'Zhang_Ziyi_0001.jpg', 'Tang_Jiaxuan_0007.jpg', 'Hideki_Matsui_0002.jpg', 'Cho_Myung-kyun_0001.jpg', 'Phoenix_Chang_0001.jpg', 'Dai_Chul_Chyung_0001.jpg', 'yl3199.jpg', 'Lee_Jun_0002.jpg', 'sy2518 (1).jpg', 'xj2178 (1).jpg', 'Gloria_Macapagal_Arroyo_0026.jpg', 'Andy_Lau_0001.jpg', 'Gloria_Macapagal_Arroyo_0020.jpg', 'rw2611.jpg', 'Liu_Ye_0001.jpg', 'Li_Peng_0001.jpg', 'sw3385.jpg', 'Jong_Wook_Lee_0003.jpg', 'Li_Peng_0008.jpg', 'Jiang_Zemin_0006.jpg', 'Nan_Wang_0002.jpg', 'Carina_Lau_Ka-ling_0001.jpg', 'Kim_Ryong-sung_0009.jpg', 'Kim_Hong-gul_0001.jpg', 'person_0205.jpg', 'xj2178.jpg', 'Chung_Mong-hun_0002.jpg', 'Chok_Tong_Goh_0001.jpg', 'Chhouk_Rin_0001.jpg', 'yx2318 (1).jpg', 'Paul_Li_Calsi_0001.jpg', 'person_0123.jpg', 'Li_Zhaoxing_0002.jpg', 'Aung_San_Suu_Kyi_0002.jpg', 'xj2191.jpg', 'Lee_Hyung-taik_0001.jpg', 'cl300.jpg', 'yl4042.jpg', 'yx2385.jpg', 'Yoriko_Kawaguchi_0006.jpg', 'Wen_Jiabao_0009.jpg', 'Wu_Peng_0001.jpg', 'Hee-Won_Han_0002.jpg', 'Young_Kim_0001.jpg', 'Li_Peng_0002.jpg', 'Lee_Jun_0001.jpg', '6.JPG', 'dl2943.jpg', 'Zhu_Rongji_0006.jpg', 'Hee-Won_Han_0001.jpg', 'kl3065.jpg', 'Tang_Jiaxuan_0010.jpg', 'Wang_Yi_0001.jpg', 'jl5173.jpg', 'cl300 (1).jpg', 'Gloria_Macapagal_Arroyo_0037.jpg', 'Charlie_Zaa_0001.jpg', '178.JPG', 'hz2361.jpg', 'Gloria_Macapagal_Arroyo_0021.jpg', '7f1cff68c76240644e114545654141fb.jpg', 'Yusaku_Miyazato_0001.jpg', 'jh3874.jpg', 'Zhang_Yimou_0001.jpg', 'cl3406.jpg', 'person_0204.jpg', 'Heizo_Takenaka_0007.jpg', 'Erwin_Abdullah_0001.jpg', 'Chen_Liang_Yu_0001.jpg', '206.JPG', 'dy2307.jpg', '189.JPG', 'xl2523.jpg', 'Gloria_Macapagal_Arroyo_0014.jpg', 'Chin-Feng_Chen_0001.jpg', 'Yoriko_Kawaguchi_0010.jpg', 'Bak_Chang-Ryun_0001.jpg', 'Goh_Kun_0002.jpg', '127.JPG', 'Andrea_De_Cruz_0001.jpg', 'Chen_Shui-bian_0005.jpg', '23.JPG', 'Zhong_Nanshan_0001.jpg', 'Kim_Yun-kyu_0001.jpg', '190.JPG', 'Heizo_Takenaka_0004.jpg', 'hx2168.jpg', 'mt2994.jpg', 'Lee_Hoi-chang_0004.jpg', 'Li_Ruihuan_0001.jpg', '152.JPG', 'Jiang_Zemin_0009.jpg', 'person_0122.jpg', 'Gloria_Macapagal_Arroyo_0028.jpg', 'Jiang_Zemin_0007.jpg', 'Gloria_Macapagal_Arroyo_0030.jpg', '151.JPG', 'Tomoko_Hagiwara_0002.jpg', 'Kim_Su_Nam_0001.jpg', '168.JPG', 'Kim_Ryong-sung_0005.jpg', 'jl5102.jpg', 'Tang_Jiaxuan_0004.jpg', 'ds3516.jpg', 'Wen_Jiabao_0004.jpg', 'Yoriko_Kawaguchi_0002.jpg', '964f26e27b1d47bdb9ccca5baff8c496.jpg', '161.JPG', 'yw2902.jpg', '137.JPG', 'Gloria_Macapagal_Arroyo_0040.jpg', 'Tang_Jiaxuan_0011.jpg', 'Antony_Leung_0001.jpg', '133.JPG', 'Hu_Jintao_0013.jpg', 'Win_Aung_0004.jpg', '20.JPG', 'cs3736.jpg', 'Gloria_Macapagal_Arroyo_0016.jpg', 'person_0120.jpg', '163.JPG', 'Yishan_Zhang_0001.jpg', '444.JPG', 'Gong_Li_0001.jpg', 'Alberto_Fujimori_0002.jpg', 'Bryan_Chui_0001.jpg', '156.JPG', 'jf3030.jpg', 'Hu_Jintao_0003.jpg', 'Lee_Tae-sik_0001.jpg', 'Jiang_Zemin_0008.jpg', 'Yoko_Ono_0003.jpg', 'yz3477.jpg', 'Jim_Wong_0001.jpg', 'Yoon_Young-kwan_0001.jpg', '183.JPG', 'Yang_Pao-yu_0001.jpg', 'Yu_Shyi-kun_0002.jpg', 'Chang_Dae-whan_0002.jpg', 'Yoko_Ono_0005.jpg', 'xd2212.jpg', 'Zhang_Wenkang_0001.jpg', '38910495-young-asian-man-with-closed-eyes.jpg', 'Wen_Jiabao_0006.jpg', 'Shinya_Taniguchi_0001.jpg', '150.JPG', 'Fann_Wong_0001.jpg', 'Zhang_Wenkang_0002.jpg', 'Connie_Chung_0001.jpg', 'Li_Zhaoxing_0003.jpg', '192.JPG', 'Xiang_Huaicheng_0001.jpg', 'Kimora_Lee_0001.jpg', 'Chen_Shui-bian_0002.jpg', 'sz2476.jpg', 'Lee_Hong-ki_0001.jpg', 'Park_Jie-won_0001.jpg', 'Akmal_Taher_0001.jpg', '111.JPG', 'yw2928.jpg', 'Gloria_Macapagal_Arroyo_0002.jpg', 'Gloria_Macapagal_Arroyo_0018.jpg', '24.JPG', 'person_0144.jpg', 'hz2361 (1).jpg', 'Li_Peng_0009.jpg', 'cx2187.jpg', 'Suk_Chung_Hong_0001.jpg', 'Lee_Nam-shin_0001.jpg', '188.JPG', 'Gloria_Macapagal_Arroyo_0034.jpg', 'ys2867.jpg', 'jz2776.jpg', 'Ben_Lee_0001.jpg', 'Debra_Yang_0001.jpg', '125.JPG', 'Gloria_Macapagal_Arroyo_0012.jpg', 'Zhu_Rongji_0004.jpg', '141.JPG', 'Gloria_Macapagal_Arroyo_0022.jpg', 'Yoriko_Kawaguchi_0003.jpg', 'jz2776 (1).jpg', 'Hung_Wan-ting_0001.jpg', 'ys2867 (1).jpg', 'Kim_Ryong-sung_0004.jpg', 'Gloria_Macapagal_Arroyo_0010.jpg', 'Gloria_Macapagal_Arroyo_0006.jpg', 'Kim_Ryong-sung_0003.jpg', 'yc2911.jpg', '204.JPG', 'a84.JPG', 'Shingo_Katayama_0001.jpg', 'cz2393.jpg', 'Zeng_Qinghong_0001.jpg', 'yc3171.jpg', 'Li_Ka-shing_0001.jpg', 'Xiang_Xu_0001.jpg', 'Li_Zhaoxing_0007.jpg', 'Zhu_Rongji_0003.jpg', '144.JPG', 'jy2913.jpg', 'Fujio_Cho_0004.jpg', 'Chang_Saio-yue_0001.jpg', 'Candie_Kung_0001.jpg', 'Lee_Soo-hyuck_0002.jpg', 'Chan_Ho_Park_0001.jpg', 'Yang_Jianli_0001.jpg', 'sy2518.jpg', 'Hisao_Oguchi_0001.jpg', '120.JPG', 'Tang_Jiaxuan_0001.jpg', '180.JPG', 'Yukiko_Okudo_0002.jpg', 'Yu_Shyi-kun_0001.jpg', 'Yoko_Ono_0004.jpg', 'Kim_Jong-Il_0001.jpg', 'Cecilia_Cheung_0001.jpg', 'Chung_Mong-joon_0002.jpg', 'Eriko_Tamura_0001.jpg', 'Hu_Jintao_0014.jpg', 'Wang_Fei_0001.jpg', 'Kim_Ryong-sung_0001.jpg', 'hf2286 (1).jpg', 'fy2252.jpg', 'Hu_Jintao_0002.jpg', '33.JPG', 'Wang_Yingfan_0001.jpg', 'Lee_Yuan-tseh_0001.jpg', 'Gloria_Macapagal_Arroyo_0027.jpg', 'Cha_Yung-gu_0001.jpg', 'Choi_Sung-hong_0003.jpg', 'Jimmy_Lee_0001.jpg', 'Antony_Leung_0004.jpg', 'Li_Zhaoxing_0004.jpg', '182.JPG', 'zs2262.jpg', 'Yoriko_Kawaguchi_0014.jpg', 'Daniel_Chin_0001.jpg', 'Yingfan_Wang_0001.jpg', '212.JPG', 'cz2321.jpg', 'Kim_Ryong-sung_0010.jpg', '211.JPG', 'zh2220.jpg', 'Huang_Suey-Sheng_0001.jpg', 'sc4097.jpg', 'Anthony_Lee_Johnson_0001.jpg', 'Yu_Shyi-kun_0004.jpg', 'Jiang_Zemin_0019.jpg', 'Wen_Jiabao_0012.jpg', 'Chan_Choi_0001.jpg', '213.JPG', 'Jiang_Zemin_0012.jpg', 'Jiang_Zemin_0005.jpg', '146.JPG', 'zd2212.jpg', 'qw2264.jpg', '184.JPG', 'Jiang_Zemin_0004.jpg', 'yx2318.jpg', 'pz2210.jpg', 'Ambrose_Lee_0001.jpg', 'Wu_Yi_0002.jpg', 'Yoko_Ono_0002.jpg', 'Xiang_Liu_0001.jpg', 'Gloria_Macapagal_Arroyo_0007.jpg', 'Gloria_Macapagal_Arroyo_0013.jpg', 'hp2414.jpg', '147.JPG', '162.JPG', 'Heizo_Takenaka_0006.jpg', 'sz2629.jpg', 'Yoriko_Kawaguchi_0001.jpg', 'Gloria_Macapagal_Arroyo_0004.jpg', '129.JPG', 'Tang_Jiaxuan_0008.jpg', 'pz2210 (1).jpg', 'Hassan_Wirajuda_0002.jpg', 'Jong_Wook_Lee_0004.jpg', 'rl2987.jpg', 'person_0121.jpg', 'Lee_Soo-hyuck_0003.jpg', '116.JPG', 'Hu_Maoyuan_0001.jpg', 'zw2289.jpg', 'ly2324.jpg', 'Fujio_Cho_0002.jpg', 'Ham_Pong-sil_0001.jpg', 'Hu_Jintao_0001.jpg', '35.JPG', 'Gloria_Macapagal_Arroyo_0044.jpg', 'Li_Zhaoxing_0005.jpg', 'Yoriko_Kawaguchi_0009.jpg', 'ss4716.jpg', 'Chen_Shui-bian_0003.jpg', 'Wang_Nan_0001.jpg', 'Chen_Shui-bian_0001.jpg', 'Kim_Yong-il_0002.jpg', '31.JPG', '114.JPG', 'Ziwang_Xu_0001.jpg', '37.JPG', 'Wen_Jiabao_0005.jpg', 'Guangdong_Ou_Guangyuan_0001.jpg', 'Wang_Yi_0002.jpg', 'Lee_Hoi-chang_0003.jpg', 'Jong_Wook_Lee_0002.jpg', 'hf2286.jpg', '38.JPG', 'Gloria_Macapagal_Arroyo_0003.jpg', 'Gloria_Macapagal_Arroyo_0031.jpg', 'Jiang_Zemin_0013.jpg', 'wt2247.jpg', '145.JPG', 'Kim_Ryong-sung_0008.jpg', 'Fruit_Chan_0001.jpg', '208.JPG', '148.JPG', 'sc3919.jpg', 'Zhu_Rongji_0009.jpg', 'Hu_Jintao_0005.jpg', 'yz2978.jpg', 'Yoriko_Kawaguchi_0011.jpg', 'Kim_Jin-sun_0001.jpg', 'Choi_Sung-hong_0005.jpg', 'Yoo_Jay-Kun_0001.jpg', '7.JPG', 'Fujio_Cho_0006.jpg', 'Wan_Yanhai_0001.jpg', 'by2267.jpg', '191.JPG', 'Hichiro_Naemura_0002.jpg', 'Yoriko_Kawaguchi_0008.jpg', 'fy2207.jpg', 'Win_Aung_0002.jpg', 'Chuanyun_Li_0001.jpg', 'Wang_Yingfan_0003.jpg', 'Yukio_Hatoyama_0001.jpg', 'Bill_Kong_0001.jpg', 'person_0953.jpg', 'Jiang_Zemin_0014.jpg', 'Kim_Jong-Il_0003.jpg', 'Yoon_Jeong_Cho_0001.jpg', '28.JPG', 'Gao_Qiang_0001.jpg', 'Jia_Qinglin_0001.jpg', 'Tian_Liang_0001.jpg', 'David_Ho_0001.jpg', 'b43.JPG', 'Candie_Kung_0004.jpg', 'sr3254.jpg', 'Lee_Hoi-chang_0001.jpg', 'Kim_Jin-sun_0002.jpg', '124.JPG', 'Chen_Tsai-chin_0001.jpg', 'Wang_Yingfan_0002.jpg', 'Li_Changchun_0001.jpg', 'Chyung_Dai-chul_0001.jpg', 'Wen_Jiabao_0007.jpg', 'zh2210.jpg', 'Gloria_Macapagal_Arroyo_0043.jpg', 'Lee_Hoi-chang_0002.jpg', 'Hee-Won_Han_0003.jpg', 'Wen_Jiabao_0003.jpg', 'Ai_Sugiyama_0005.jpg', '176.JPG', 'Hu_Jintao_0004.jpg', 'Huan_Chung_Yi_0001.jpg', 'jc5020.jpg', 'Cecilia_Chang_0001.jpg', 'passport-photo-rejected-closed-eyes-richard-lee-11.jpg', 'Bernice_Wong_0001.jpg', 'cz2351.jpg', 'Jiang_Zemin_0020.jpg', 'Nan_Wang_0003.jpg', 'kl3157.jpg', 'Gloria_Macapagal_Arroyo_0009.jpg', 'Candie_Kung_0003.jpg', '214.JPG', 'Hu_Jintao_0011.jpg', 'Li_Zhaoxing_0008.jpg', 'll3057.jpg', 'Hatsui_Hasuike_0001.jpg', '118.JPG', 'Goh_Kun_0001.jpg', 'Kim_Yong-il_0003.jpg', 'kc3031.jpg', 'yr2301.jpg', 'Wu_Yi_0001.jpg', 'jy2736.jpg', 'Gloria_Macapagal_Arroyo_0017.jpg', 'sl4017.jpg', 'hl2915.jpg', 'person_0143.jpg', 'Tang_Jiaxuan_0006.jpg', '181.JPG', 'Jiang_Zemin_0017.jpg', 'Hassan_Wirajuda_0001.jpg', 'Choi_Sung-hong_0004.jpg', 'Yasushi_Chimura_0001.jpg', 'tj2330.jpg', 'xw2401.jpg', 'jz2612.jpg', 'Gloria_Macapagal_Arroyo_0024.jpg', 'Chang_Sang_0001.jpg', 'Eric_Taino_0001.jpg', 'Wen_Jiabao_0011.jpg', 'Fujio_Cho_0003.jpg', 'Nan_Wang_0001.jpg']\n",
            "African\n",
            "['Emmanuel_Milingo_0001.jpg', '892.JPG', 'Condoleezza_Rice_0010.jpg', '63.JPG', 'Alonzo_Mourning_0001.jpg', 'Daryl_Smith_0001.jpg', 'Venus_Williams_0001.jpg', 'William_Ragland_0001.jpg', 'Charles_Taylor_0004.jpg', '197.JPG', '62.JPG', 'Aiysha_Smith_0001.jpg', 'Vince_Carter_0003.jpg', 'Chuck_Bednarik_0001.jpg', '69.JPG', 'person_0925.jpg', 'George_Foreman_0001.jpg', '90.JPG', 'a66.JPG', 'Angela_Bassett_0003.jpg', 'person_0900.jpg', 'Cheryl_Ford_0001.jpg', '89.JPG', 'Dusty_Baker_0001.jpg', 'Eileen_Coparropa_0002.jpg', 'person_0367.jpg', 'Condoleezza_Rice_0002.jpg', 'oji.jpg', 'a48.JPG', '87.JPG', '846.JPG', 'a82.JPG', 'Eileen_Coparropa_0001.jpg', 'Gregory_Hines_0001.jpg', 'Ashanti_0001.jpg', 'Venus_Williams_0004.jpg', 'Ray_Young_0001.jpg', '25.JPG', 'Adrian_Murrell_0001.jpg', 'Grady_Irvin_Jr_0001.jpg', 'Kenneth_Evans_0002.jpg', 'Venus_Williams_0006.jpg', 'Woodrow_Stanley_0001.jpg', 'Charles_Moose_0011.jpg', '93.JPG', 'Venus_Williams_0014.jpg', 'person_0130.jpg', '34.JPG', 'person_0134.jpg', '83.JPG', '809.JPG', 'a62.JPG', '65.JPG', '929.JPG', 'Eunice_Barber_0001.jpg', 'Michael_Jordan_0001.jpg', 'a75.JPG', 'Arthur_Johnson_0001.jpg', '50.JPG', '861.JPG', 'Felix_Trinidad_0001.jpg', '865.JPG', 'Chris_Rock_0001.jpg', '780.JPG', 'El_Hadji_Diouf_0001.jpg', 'Laurent_Gbagbo_0001.jpg', 'John_Allen_Muhammad_0009.jpg', 'Brian_Lara_0001.jpg', 'Ashanti_0002.jpg', 'John_Allen_Muhammad_0005.jpg', '843.JPG', '841.JPG', 'person_0260.jpg', '814.JPG', 'Barry_Bonds_0001.jpg', 'pio.jpg', 'Kenneth_Evans_0001.jpg', 'Dexter_Jackson_0001.jpg', 'person_0183.jpg', '876.JPG', 'person_0368.jpg', 'Charles_Moose_0006.jpg', '890.JPG', 'Angela_Bassett_0006.jpg', 'Charlie_Garner_0001.jpg', '863.JPG', '101.JPG', '838.JPG', '29.JPG', '887.JPG', 'Holly_Robinson_Peete_0001.jpg', '36.JPG', 'person_0971.jpg', 'Roy_Jones_Jr_0002.jpg', 'Colin_Jackson_0002.jpg', 'person_0676.jpg', '899.JPG', 'Denise_Johnson_0002.jpg', 'John_Allen_Muhammad_0003.jpg', 'Don_King_0001.jpg', '866.JPG', 'Byron_Scott_0002.jpg', 'Guillaume_Soro_0001.jpg', 'pexels-photo-3678375.jpg', 'Grady_Irvin_Jr_0002.jpg', 'Brandon_Knight_0001.jpg', '893.JPG', '91.JPG', 'mk.jpg', '40.JPG', 'Chris_Byrd_0002.jpg', '81.JPG', 'Will_Smith_0001.jpg', '854.JPG', '21.JPG', 'Halle_Berry_0012.jpg', 'poi.jpg', '179.JPG', 'Chanda_Rubin_0001.jpg', 'Corliss_Williamson_0001.jpg', 'Allyson_Felix_0004.jpg', 'Abdoulaye_Wade_0002.jpg', 'Eunice_Barber_0002.jpg', '902.JPG', 'Derrick_Taylor_0001.jpg', 'Colin_Jackson_0001.jpg', 'John_Allen_Muhammad_0008.jpg', '898.JPG', 'Larry_Johnson_0001.jpg', 'Venus_Williams_0013.jpg', 'pexels-photo-3802823.jpg', 'a3.JPG', 'Billy_Edelin_0001.jpg', 'Damon_Stoudamire_0001.jpg', 'Halle_Berry_0009.jpg', 'Emmit_Smith_0002.jpg', '175.JPG', 'Vince_Carter_0002.jpg', 'Horace_Donovan_Reid_0001.jpg', '810.JPG', 'a77.JPG', 'Alicia_Keys_0001.jpg', 'cxx.jpg', '826.JPG', 'person_0612.jpg', 'Vivica_Fox_0001.jpg', 'lkm.jpg', 'John_Allen_Muhammad_0002.jpg', 'Charles_Moose_0012.jpg', 'Clifford_Robinson_0001.jpg', 'Zumrati_Juma_0001.jpg', 'Allyson_Felix_0001.jpg', 'Atiabet_Ijan_Amabel_0001.jpg', 'person_0909.jpg', 'John_Allen_Muhammad_0001.jpg', 'Brandon_Jones_0001.jpg', 'Drew_Gooden_0001.jpg', 'Ben_Betts_0001.jpg', 'George_Foreman_0002.jpg', 'William_Joppy_0001.jpg', 'Ruben_Sierra_0001.jpg', '30.JPG', '39.JPG', '49.JPG', 'Chris_Crocker_0001.jpg', 'Charles_Taylor_0009.jpg', 'Vince_Carter_0001.jpg', 'Craig_David_0001.jpg', 'Charles_Moose_0007.jpg', '811.JPG', 'Catherine_Ndereba_0001.jpg', 'William_Harrison_0001.jpg', 'Bill_Cartwright_0001.jpg', 'pexels-photo-3891123.jpg', '199.JPG', '845.JPG', 'Calvin_Joseph_Coleman_0001.jpg', 'Erick_Barkley_0001.jpg', 'Byron_Scott_0001.jpg', 'person_0080.jpg', 'Condoleezza_Rice_0003.jpg', 'Vivica_Fox_0002.jpg', 'Wayne_Brady_0001.jpg', '834.JPG', '92.JPG', '52.JPG', '98.JPG', '881.JPG', '27.JPG', 'Bryan_Thomas_0001.jpg', 'Derrick_Battie_0001.jpg', 'Charles_Moose_0010.jpg', '894.JPG', 'BB_King_0001.jpg', 'Eric_Benet_0001.jpg', 'Kevin_Garnett_0001.jpg', 'Hashan_Tillakaratne_0001.jpg', '833.JPG', 'Adrian_McPherson_0002.jpg', 'person_0020.jpg', 'person_0366.jpg', 'Cherry_Jones_0001.jpg', 'person_0372.jpg', '857.JPG', 'Eddie_Murray_0001.jpg', '61.JPG', 'Pedro_Martinez_0001.jpg', '855.JPG', 'Brandon_Hammond_0001.jpg', 'Artieas_Shanks_0001.jpg', '872.JPG', 'Gary_Coleman_0001.jpg', '32.JPG', 'Chris_Tucker_0001.jpg', 'Calbert_Cheaney_0001.jpg', 'Willis_Roberts_0001.jpg', 'Venus_Williams_0003.jpg', 'Barry_Ford_0001.jpg', '75.JPG', '879.JPG', 'Himmler_Rebu_0001.jpg', 'Hilda_Fortune_0001.jpg', 'Allan_Kemakeza_0001.jpg', 'Gabriel_Hughes_0001.jpg', 'Viola_Davis_0001.jpg', 'Corey_Maggette_0001.jpg', 'Carlos_Alberto_0001.jpg', 'Keith_Brown_0001.jpg', 'Valorie_Brabazon_0001.jpg', 'Condoleezza_Rice_0007.jpg', 'Allyson_Felix_0003.jpg', 'Venus_Williams_0007.jpg', '856.JPG', '806.JPG', 'Alan_Zemaitis_0001.jpg', 'Festus_Mogae_0001.jpg', 'a68.JPG', 'Lionel_Hampton_0001.jpg', 'Dion_Glover_0001.jpg', '824.JPG', 'person_0081.jpg', 'person_0369.jpg', '835.JPG', 'Wilma_McNabb_0001.jpg', 'Dexter_Jackson_0002.jpg', 'Ruben_Studdard_0002.jpg', 'Brad_Alexander_Smith_0001.jpg', '88.JPG', 'Hamza_Atiya_Muhsen_0001.jpg', 'Venus_Williams_0012.jpg', '871.JPG', '874.JPG', 'Barbara_Becker_0001.jpg', 'person_0345.jpg', 'Brian_Jordan_0001.jpg', 'Emmit_Smith_0001.jpg', '97.JPG', 'Carol_Williams_0001.jpg', 'Joseph_Kabila_0001.jpg', 'Julian_Battle_0001.jpg', 'Charlotte_Chambers_0001.jpg', 'Wendy_Kennedy_0001.jpg', 'person_0494.jpg', 'Tia_Mowry_0001.jpg', 'John_Allen_Muhammad_0010.jpg', '819.JPG', 'Nikki_McKibbin_0001.jpg', 'Charles_Moose_0009.jpg', 'hfff.jpg', 'person_0613.jpg', 'Damarius_Bilbo_0001.jpg', '859.JPG', 'John_Allen_Muhammad_0006.jpg', 'person_0370.jpg', '23.JPG', 'Gabrielle_Union_0001.jpg', 'beard-blur-casual-462680_0.jpg', '858.JPG', 'person_0021.jpg', '96.JPG', 'a50.JPG', 'Kevin_Satterfield_0001.jpg', '850.JPG', 'Alex_Gonzalez_0001.jpg', 'Al_Sharpton_0007.jpg', 'Chris_Terry_0001.jpg', 'Angela_Bassett_0004.jpg', '72.JPG', '84.JPG', 'nnbb.jpg', 'Yolanda_King_0001.jpg', 'Angela_Bassett_0005.jpg', 'Ashanti_0004.jpg', 'Darvis_Patton_0001.jpg', 'Herman_Moore_0001.jpg', '818.JPG', 'd13 (3).jpg', '20.JPG', 'Gloria_Gaynor_0001.jpg', 'Daniell_Sunjata_0001.jpg', 'a73.JPG', 'Charles_Taylor_0008.jpg', 'Abdoulaye_Wade_0001.jpg', 'Charles_Taylor_0003.jpg', 'Dwayne_Wade_0001.jpg', 'Josh_Evans_0001.jpg', 'Edward_Belvin_0001.jpg', 'Cori_Enghusen_0002.jpg', 'person_0913.jpg', 'person_0274.jpg', 'jokk.jpg', 'IMG-20190214-WA0033.jpg', 'Wendell_Bryant_0001.jpg', 'Dule_Hill_0001.jpg', 'person_0910.jpg', '800.JPG', '878.JPG', 'Chanda_Rubin_0004.jpg', 'Bryant_Young_0001.jpg', 'Spike_Lee_0001.jpg', '8111.JPG', 'Charles_Rogers_0001.jpg', '817.JPG', 'Allyson_Felix_0002.jpg', 'd133.jpg', 'Chris_Tucker_0002.jpg', 'Alfonso_Soriano_0001.jpg', '808.JPG', '823.JPG', 'Charles_Moose_0008.jpg', '869.JPG', '851.JPG', 'Felix_Doh_0001.jpg', 'Danny_Glover_0001.jpg', '122.JPG', '836.JPG', 'Alek_Wek_0001.jpg', 'Antwun_Echols_0001.jpg', 'Celia_Cruz_0001.jpg', 'Helen_Darling_0001.jpg', 'd13 (7.jpg', 'Venus_Williams_0009.jpg', 'Denise_Johnson_0001.jpg', '839.JPG', 'Charles_Moose_0001.jpg', 'Darren_Campel_0001.jpg', 'Mary_Blige_0001.jpg', '567.JPG', '24.JPG', 'Dwayne_Williams_0001.jpg', '760.JPG', '883.JPG', '901.JPG', 'aoa2124.jpg', 'Pele_0001.jpg', 'Abdoulaye_Wade_0004.jpg', 'a58.JPG', 'Brandon_Spann_0001.jpg', 'Halle_Berry_0002.jpg', 'Calvin_Harrison_0001.jpg', 'jh.jpg', 'Chris_Claiborne_0001.jpg', 'a49.JPG', 'Condoleezza_Rice_0001.jpg', 'Angel_Maza_0001.jpg', 'io.jpg', 'Henry_Suazo_0001.jpg', 'DAngelo_Jimenez_0001.jpg', 'Will_Smith_0002.jpg', 'Halle_Berry_0007.jpg', 'b28.JPG', 'John_Allen_Muhammad_0011.jpg', 'person_0719.jpg', 'Ruben_Studdard_0001.jpg', 'Cedric_Benson_0001.jpg', 'Jewel_Howard-Taylor_0001.jpg', '828.JPG', '95.JPG', 'Charles_Moose_0002.jpg', 'a86.JPG', 'Wilfredo_Moreno_0001.jpg', 'Gregory_Hines_0002.jpg', 'Michael_Jordan_0002.jpg', '200.JPG', 'Ainsworth_Dyer_0001.jpg', 'Chris_Rock_0002.jpg', 'loj.jpg', 'Aparna_Pillai_0001.jpg', '820.JPG', 'Angela_Bassett_0001.jpg', 'George_Gregan_0001.jpg', 'Ben_Wallace_0001.jpg', 'Chris_Byrd_0001.jpg', 'a43.JPG', 'Esther_Macklin_0001.jpg', '822.JPG', '33.JPG', 'Dianne_Reeves_0001.jpg', 'Condoleezza_Rice_0004.jpg', 'a83.JPG', '877.JPG', 'lk.jpg', 'Chanda_Rubin_0002.jpg', 'Charles_Moose_0003.jpg', 'Laura_Flessel_0001.jpg', 'Dustan_Mohr_0001.jpg', '897.JPG', '873.JPG', 'a44.JPG', '82.JPG', 'Jean-Pierre_Bemba_0001.jpg', 'Giovanny_Cordoba_0001.jpg', 'Willie_Wilson_0001.jpg', 'Charles_Taylor_0006.jpg', 'Roy_Jones_Jr_0001.jpg', 'Lionel_Chalmers_0001.jpg', 'Angela_Bassett_0002.jpg', '79.JPG', '80.JPG', '100.JPG', 'Daryl_Parks_0001.jpg', 'Halle_Berry_0011.jpg', 'person_0162.jpg', 'Laurent_Gbagbo_0002.jpg', 'Kenenisa_Bekele_0001.jpg', 'Larenz_Tate_0001.jpg', '102.JPG', 'Gerald_Riley_0001.jpg', '875.JPG', '390 (1).JPG', '870.JPG', 'David_Suazo_0001.jpg', 'Geoffrey_Davis_0001.jpg', '57.JPG', 'Eric_Snow_0001.jpg', 'Damon_Dash_0001.jpg', '35.JPG', 'John_Allen_Muhammad_0004.jpg', 'Agbani_Darego_0001.jpg', 'nvv.jpg', 'Charles_Moose_0004.jpg', '900.JPG', 'Clifford_Etienne_0001.jpg', 'Vince_Carter_0004.jpg', '31.JPG', 'Chris_Whitney_0001.jpg', '85.JPG', 'Yoelbi_Quesada_0001.jpg', 'Floyd_Mayweather_0001.jpg', '65431564-portrait-of-real-black-african-man-with-no-expression-id-or-passport-photo-full-collection-of-divers.jpg', '38.JPG', 'person_0951.jpg', 'Brad_Banks_0001.jpg', 'Condoleezza_Rice_0006.jpg', 'Astou_Ndiaye-Diatta_0001.jpg', 'person_0360.jpg', 'Brandon_Robinson_0001.jpg', 'bg.jpg', '829.JPG', 'Ana_Sebastiao_0001.jpg', 'd34.JPG', 'Pharrell_Williams_0001.jpg', 'Hank_Aaron_0001.jpg', 'George_McCloud_0001.jpg', 'Paul_Kagame_0001.jpg', 'Adrian_McPherson_0001.jpg', 'Allan_Houston_0001.jpg', 'person_0063.jpg', 'Bobo_Balde_0001.jpg', 'Abdoulaye_Wade_0003.jpg', 'Bobby_Jackson_0001.jpg', '28.JPG', 'Cuba_Gooding_Jr_0001.jpg', '910.JPG', 'person_0911.jpg', '176.JPG', 'Ashanti_0005.jpg', 'Chanda_Rubin_0005.jpg', 'Andre_Smith_0001.jpg', 'Donna_Brazile_0001.jpg', 'Al_Sharpton_0001.jpg', 'person_0316.jpg', 'John_Allen_Muhammad_0007.jpg', 'person_0164.jpg', 'Ashanti_0003.jpg', 'Anthony_Carter_0001.jpg', 'person_0898.jpg', '56.JPG', 'Eileen_Coparropa_0003.jpg', '891.JPG', 'person_0912.jpg', 'Vernon_Forrest_0001.jpg', 'dsd.jpg', 'Guillaume_Soro_0002.jpg', 'Dwain_Kyles_0001.jpg', 'Derrick_Rodgers_0001.jpg', '78.JPG', 'Allyson_Felix_0005.jpg', '815.JPG', 'Charles_Taylor_0001.jpg', '45.JPG', '862.JPG', 'person_0977.jpg', 'Venus_Williams_0002.jpg', 'Jerry_Oliver_0001.jpg', 'person_0019.jpg', '864.JPG', 'puu.jpg', 'Chanda_Rubin_0003.jpg', 'Charles_Moose_0005.jpg', '831.JPG', 'Christian_Malcolm_0001.jpg', 'Charles_Moose_0013.jpg', 'Hama_Arba_Diallo_0001.jpg', 'Benedita_da_Silva_0001.jpg', 'Charmaine_Crooks_0001.jpg', 'Collis_Temple_III_0001.jpg']\n"
          ]
        }
      ]
    },
    {
      "cell_type": "markdown",
      "source": [
        "# Converting to NumPy:\n",
        "\n",
        "We need the data to be in a processable form. Therefore, we shall convert each ethnicity into a NumPy array: [image_id, ethnicity_id].\n",
        "\n",
        "After, we will convert NumPy arrays to tensors for TensorFlow."
      ],
      "metadata": {
        "id": "6u20bN5j_8qR"
      }
    },
    {
      "cell_type": "code",
      "source": [
        "# Convert ethnicities to numbers for easier processing\n",
        "\n",
        "ethnicity_to_id = {'Unknown': 0, 'African': 1, 'Asian': 2, 'Caucasian': 3}\n",
        "id_to_ethnicity = {0: 'Unknown', 1: 'African', 2: 'Asian', 3: 'Caucasian'}\n",
        "\n",
        "# Label images with label. Return NumPy matrix (len(image_list, 2))\n",
        "def LabelImages(image_list, label):\n",
        "  label_list = np.full((len(image_list)), ethnicity_to_id[label])\n",
        "  return np.stack((np.array(image_list), label_list), axis=1)\n"
      ],
      "metadata": {
        "id": "igCNzRqDAiJ2"
      },
      "execution_count": 44,
      "outputs": []
    },
    {
      "cell_type": "code",
      "source": [
        "for ethnicity in ethnicities_subdirs:\n",
        "  print(ethnicity)\n",
        "  print(np.shape(LabelImages(GetFiles(train_data_path + \"/\" + ethnicity), ethnicity)))"
      ],
      "metadata": {
        "colab": {
          "base_uri": "https://localhost:8080/"
        },
        "id": "09isrV40F3dx",
        "outputId": "b4014c43-841d-4f8c-d787-1c0debed0eb0"
      },
      "execution_count": 45,
      "outputs": [
        {
          "output_type": "stream",
          "name": "stdout",
          "text": [
            "Caucasian\n",
            "(473, 2)\n",
            "Asian\n",
            "(662, 2)\n",
            "African\n",
            "(517, 2)\n"
          ]
        }
      ]
    },
    {
      "cell_type": "code",
      "source": [
        "# Create giant dataset\n",
        "\n",
        "def GetAllLabeledImages():\n",
        "  # Set first ethnicity\n",
        "  data = LabelImages(GetFiles(train_data_path + \"/\" + ethnicities_subdirs[0]), ethnicities_subdirs[0])\n",
        "\n",
        "  for i in range(1, len(ethnicities_subdirs)):\n",
        "    labeled_images = LabelImages(GetFiles(train_data_path + \"/\" + ethnicities_subdirs[i]),\n",
        "                                ethnicities_subdirs[i])\n",
        "    data = np.concatenate((data, labeled_images), axis=0)\n",
        "\n",
        "  return data"
      ],
      "metadata": {
        "id": "i5-5ujkOJ1Eh"
      },
      "execution_count": 62,
      "outputs": []
    },
    {
      "cell_type": "code",
      "source": [
        "data = GetAllLabeledImages()\n",
        "\n",
        "print(data)\n",
        "print(data.shape)"
      ],
      "metadata": {
        "colab": {
          "base_uri": "https://localhost:8080/"
        },
        "id": "GClziH1TLRPb",
        "outputId": "255cc014-6f35-41ab-8ae6-96ca8e030664"
      },
      "execution_count": 65,
      "outputs": [
        {
          "output_type": "stream",
          "name": "stdout",
          "text": [
            "[['George_P_Bush_0002.jpg' '3']\n",
            " ['63.JPG' '3']\n",
            " ['b29.JPG' '3']\n",
            " ...\n",
            " ['Benedita_da_Silva_0001.jpg' '1']\n",
            " ['Charmaine_Crooks_0001.jpg' '1']\n",
            " ['Collis_Temple_III_0001.jpg' '1']]\n",
            "(1652, 2)\n"
          ]
        }
      ]
    }
  ]
}